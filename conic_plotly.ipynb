{
 "cells": [
  {
   "cell_type": "code",
   "execution_count": 20,
   "id": "3127047f-b165-4ef7-9245-42db01926cc3",
   "metadata": {},
   "outputs": [
    {
     "data": {
      "text/html": [
       "\n",
       "        <iframe\n",
       "            width=\"100%\"\n",
       "            height=\"650\"\n",
       "            src=\"http://127.0.0.1:8050/\"\n",
       "            frameborder=\"0\"\n",
       "            allowfullscreen\n",
       "            \n",
       "        ></iframe>\n",
       "        "
      ],
      "text/plain": [
       "<IPython.lib.display.IFrame at 0x229f06bf450>"
      ]
     },
     "metadata": {},
     "output_type": "display_data"
    }
   ],
   "source": [
    "import numpy as np\n",
    "import plotly.graph_objs as go\n",
    "from dash import Dash, dcc, html, Input, Output\n",
    "\n",
    "app = Dash(__name__)\n",
    "\n",
    "def compute_discriminant(X, Y, x):\n",
    "    A = 1\n",
    "    B = 2 * Y * x + 2\n",
    "    C = X * x ** 2 + 2 * x\n",
    "    discriminant = B ** 2 - 4 * A * C\n",
    "    sqrt_discriminant = np.sqrt(np.abs(discriminant))\n",
    "    real_discriminant_mask = discriminant >= 0\n",
    "    y1 = np.full_like(x, np.nan)\n",
    "    y2 = np.full_like(x, np.nan)\n",
    "    y1[real_discriminant_mask] = (-B[real_discriminant_mask] + sqrt_discriminant[real_discriminant_mask]) / (2 * A)\n",
    "    y2[real_discriminant_mask] = (-B[real_discriminant_mask] - sqrt_discriminant[real_discriminant_mask]) / (2 * A)\n",
    "    return y1, y2\n",
    "\n",
    "app.layout = html.Div([\n",
    "    html.Div([\n",
    "        html.Label('a'),\n",
    "        dcc.Slider(id='a-slider', min=-5, max=5, step=0.1, value=1),\n",
    "        html.Label('b'),\n",
    "        dcc.Slider(id='b-slider', min=-5, max=5, step=0.1, value=0),\n",
    "        html.Label('c'),\n",
    "        dcc.Slider(id='c-slider', min=-5, max=5, step=0.1, value=1),\n",
    "        html.Label('d'),\n",
    "        dcc.Slider(id='d-slider', min=-5, max=5, step=0.1, value=0),\n",
    "        html.Label('e'),\n",
    "        dcc.Slider(id='e-slider', min=-5, max=5, step=0.1, value=0),\n",
    "        html.Label('f'),\n",
    "        dcc.Slider(id='f-slider', min=-5, max=5, step=0.1, value=-10)\n",
    "    ], style={'width': '25%', 'display': 'inline-block', 'vertical-align': 'top'}),\n",
    "\n",
    "    html.Div([\n",
    "        dcc.Graph(id='conic-plot')\n",
    "    ], style={'width': '70%', 'display': 'inline-block'})\n",
    "])\n",
    "\n",
    "@app.callback(\n",
    "    Output('conic-plot', 'figure'),\n",
    "    [Input('a-slider', 'value'),\n",
    "     Input('b-slider', 'value'),\n",
    "     Input('c-slider', 'value'),\n",
    "     Input('d-slider', 'value'),\n",
    "     Input('e-slider', 'value'),\n",
    "     Input('f-slider', 'value')]\n",
    ")\n",
    "def update_conic_plot(a, b, c, d, e, f):\n",
    "    x = np.linspace(-10, 10, 400)\n",
    "    y = np.linspace(-10, 10, 400)\n",
    "    X, Y = np.meshgrid(x, y)\n",
    "    Z = a*X**2 + b*X*Y + c*Y**2 + d*X + e*Y + f\n",
    "\n",
    "    fig = go.Figure()\n",
    "    fig.add_trace(go.Contour(x=x, y=y, z=Z, contours=dict(start=0, end=0, size=0.5), colorscale='Blues'))\n",
    "    fig.update_layout(title='Conic', xaxis_title='x', yaxis_title='y',\n",
    "                      xaxis=dict(showgrid=True, zeroline=True),\n",
    "                      yaxis=dict(showgrid=True, zeroline=True))\n",
    "    return fig\n",
    "\n",
    "if __name__ == '__main__':\n",
    "    app.run_server(debug=True)\n"
   ]
  },
  {
   "cell_type": "code",
   "execution_count": 19,
   "id": "e967fc3f-5903-4ad0-afa1-6295f7f5f653",
   "metadata": {},
   "outputs": [
    {
     "data": {
      "text/html": [
       "\n",
       "        <iframe\n",
       "            width=\"100%\"\n",
       "            height=\"650\"\n",
       "            src=\"http://127.0.0.1:8050/\"\n",
       "            frameborder=\"0\"\n",
       "            allowfullscreen\n",
       "            \n",
       "        ></iframe>\n",
       "        "
      ],
      "text/plain": [
       "<IPython.lib.display.IFrame at 0x229f2ec3fd0>"
      ]
     },
     "metadata": {},
     "output_type": "display_data"
    }
   ],
   "source": [
    "import numpy as np\n",
    "import plotly.graph_objs as go\n",
    "from dash import Dash, dcc, html, Input, Output\n",
    "\n",
    "app = Dash(__name__)\n",
    "\n",
    "def compute_discriminant(X, Y, x):\n",
    "    A = 1\n",
    "    B = 2 * Y * x + 2\n",
    "    C = X * x ** 2 + 2 * x\n",
    "    discriminant = B ** 2 - 4 * A * C\n",
    "    sqrt_discriminant = np.sqrt(np.abs(discriminant))\n",
    "    real_discriminant_mask = discriminant >= 0\n",
    "    y1 = np.full_like(x, np.nan)\n",
    "    y2 = np.full_like(x, np.nan)\n",
    "    y1[real_discriminant_mask] = (-B[real_discriminant_mask] + sqrt_discriminant[real_discriminant_mask]) / (2 * A)\n",
    "    y2[real_discriminant_mask] = (-B[real_discriminant_mask] - sqrt_discriminant[real_discriminant_mask]) / (2 * A)\n",
    "    return y1, y2\n",
    "\n",
    "app.layout = html.Div([\n",
    "    html.Div([\n",
    "        html.Label('m'),\n",
    "        dcc.Slider(id='m-slider', min=-10, max=10, step=0.1, value=1),\n",
    "        html.Label('c'),\n",
    "        dcc.Slider(id='c-slider', min=-10, max=10, step=0.1, value=0),\n",
    "        html.Label('X'),\n",
    "        dcc.Slider(id='X-slider', min=-10, max=10, step=0.1, value=0)\n",
    "    ], style={'width': '25%', 'display': 'inline-block', 'vertical-align': 'top'}),\n",
    "\n",
    "    html.Div([\n",
    "        dcc.Graph(id='affine-conic-plot')\n",
    "    ], style={'width': '70%', 'display': 'inline-block'})\n",
    "])\n",
    "\n",
    "@app.callback(\n",
    "    Output('affine-conic-plot', 'figure'),\n",
    "    [Input('m-slider', 'value'),\n",
    "     Input('c-slider', 'value'),\n",
    "     Input('X-slider', 'value')]\n",
    ")\n",
    "def update_affine_conic_plot(m, c, X):\n",
    "    x = np.linspace(-10, 10, 1000)\n",
    "    y = m * x + c\n",
    "    Y = m * X + c\n",
    "    \n",
    "    y1, y2 = compute_discriminant(X, Y, x)\n",
    "\n",
    "    fig = go.Figure()\n",
    "    fig.add_trace(go.Scatter(x=x, y=y, mode='lines', name=f'y = {m}x + {c}', line=dict(color='blue')))\n",
    "    fig.add_trace(go.Scatter(x=[X], y=[Y], mode='markers', name='Point', marker=dict(color='red')))\n",
    "    fig.add_trace(go.Scatter(x=x, y=y1, mode='lines', name='y1', line=dict(color='blue', dash='dot')))\n",
    "    fig.add_trace(go.Scatter(x=x, y=y2, mode='lines', name='y2', line=dict(color='blue', dash='dot')))\n",
    "    fig.update_layout(title='Affine Function and Conic', xaxis_title='x', yaxis_title='y',\n",
    "                      xaxis=dict(showgrid=True, zeroline=True),\n",
    "                      yaxis=dict(showgrid=True, zeroline=True))\n",
    "    return fig\n",
    "\n",
    "if __name__ == '__main__':\n",
    "    app.run_server(debug=True)\n"
   ]
  },
  {
   "cell_type": "code",
   "execution_count": null,
   "id": "5a744d50-5539-4873-bca8-907181c79264",
   "metadata": {},
   "outputs": [],
   "source": []
  }
 ],
 "metadata": {
  "kernelspec": {
   "display_name": "Python 3 (ipykernel)",
   "language": "python",
   "name": "python3"
  },
  "language_info": {
   "codemirror_mode": {
    "name": "ipython",
    "version": 3
   },
   "file_extension": ".py",
   "mimetype": "text/x-python",
   "name": "python",
   "nbconvert_exporter": "python",
   "pygments_lexer": "ipython3",
   "version": "3.11.9"
  }
 },
 "nbformat": 4,
 "nbformat_minor": 5
}
