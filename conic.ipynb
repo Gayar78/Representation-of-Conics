{
 "cells": [
  {
   "cell_type": "markdown",
   "id": "2daeadf1-3a8a-4263-9bb6-7099713598b0",
   "metadata": {},
   "source": [
    "# Modélisation des Coniques\n",
    "\n",
    "## Introduction\n",
    "\n",
    "Les coniques sont des courbes obtenues par l'intersection d'un plan avec un cône double. Les coniques comprennent les ellipses, les paraboles et les hyperboles. Ces courbes jouent un rôle crucial en mathématiques, physique, ingénierie et bien d'autres domaines. Elles permettent de modéliser divers phénomènes naturels et techniques, tels que les orbites des planetes, les trajectoires des projectiles, et les réflecteurs paraboliques.\n",
    "\n",
    "## Pourquoi Modéliser les Coniques ?\n",
    "\n",
    "La modélisation des coniques permet de comprendre et d'analyser les propriétés géométriques et physiques des systèmes qui les utilisent. Par exemple :\n",
    "\n",
    "- **Ellipses** : Utilisées pour modéliser les orbites planétaires (loi de Kepler).\n",
    "- **Paraboles** : Utilisées pour concevoir des antennes paraboliques et des réflecteurs (optique géométrique).\n",
    "- **Hyperboles** : Utilisées dans la navigation par hyperboles (systèmes de positionnement).\n",
    "\n",
    "## Équation des Coniques\n",
    "\n",
    "L'équation générale d'une conique dans un plan cartésien est donnée par :\n",
    "**<p style=\"color: red;\">$ax^2 + bxy + cy^2 + dx + ey + f = 0$</p>**\n",
    "\n",
    "### Paramètres\n",
    "\n",
    "- **a, b, c** : Coefficients des termes quadratiques.\n",
    "- **d, e** : Coefficients des termes linéaires.\n",
    "- **f** : Terme constant.\n",
    "\n",
    "Ces paramètres déterminent la forme et l'orientation de la conique."
   ]
  },
  {
   "cell_type": "code",
   "execution_count": 4,
   "id": "4d023a2d-c93c-4dad-9e68-ec98e4205f3b",
   "metadata": {},
   "outputs": [
    {
     "data": {
      "application/vnd.jupyter.widget-view+json": {
       "model_id": "8f5620b35a1644fca77bc535a9cd7b87",
       "version_major": 2,
       "version_minor": 0
      },
      "text/plain": [
       "interactive(children=(FloatSlider(value=1.0, description='a', max=5.0, min=-5.0), FloatSlider(value=0.0, descr…"
      ]
     },
     "metadata": {},
     "output_type": "display_data"
    },
    {
     "data": {
      "text/plain": [
       "<function __main__.plot_conic(A, B, C, D, E, F)>"
      ]
     },
     "execution_count": 4,
     "metadata": {},
     "output_type": "execute_result"
    }
   ],
   "source": [
    "## 0. Courbe Conique avec Paramètres Variables\n",
    "import numpy as np\n",
    "import matplotlib.pyplot as plt\n",
    "from ipywidgets import interact, FloatSlider\n",
    "\n",
    "def plot_conic(A, B, C, D, E, F):\n",
    "    x = np.linspace(-10, 10, 400)\n",
    "    y = np.linspace(-10, 10, 400)\n",
    "    X, Y = np.meshgrid(x, y)\n",
    "    Z = A*X**2 + B*X*Y + C*Y**2 + D*X + E*Y + F\n",
    "\n",
    "    plt.contour(X, Y, Z, levels=[0], colors='blue')\n",
    "    plt.title(\"Conic\")\n",
    "    plt.xlabel('x')\n",
    "    plt.ylabel('y')\n",
    "    plt.axhline(0, color='black',linewidth=0.5)\n",
    "    plt.axvline(0, color='black',linewidth=0.5)\n",
    "    plt.grid(color = 'gray', linestyle = '--', linewidth = 0.5)\n",
    "    plt.show()\n",
    "\n",
    "interact(plot_conic, \n",
    "         A=FloatSlider(min=-5, max=5, step=0.1, value=1,description='a'), \n",
    "         B=FloatSlider(min=-5, max=5, step=0.1, value=0,description='b'),\n",
    "         C=FloatSlider(min=-5, max=5, step=0.1, value=1,description='c'), \n",
    "         D=FloatSlider(min=-5, max=5, step=0.1, value=0,description='d'), \n",
    "         E=FloatSlider(min=-5, max=5, step=0.1, value=0,description='e'), \n",
    "         F=FloatSlider(min=-5, max=5, step=0.1, value=-10,description='f'))"
   ]
  },
  {
   "cell_type": "markdown",
   "id": "913508ec-8247-4169-8a04-80103a1fd2e5",
   "metadata": {},
   "source": [
    "## Obtenir une formule plus simple\n",
    "\n",
    "## La formule générale d'une conique est donnée par :     \n",
    "**<p style=\"color: red;\">$ax^2 + bxy + cy^2 + dx + ey + f = 0$</p>**\n",
    "\n",
    "### A et B\n",
    "\n",
    "Dans la formule simplifiée utilisée pour représenter les coniques, A et B sont définis par rapport aux coefficients de la formule générale :\n",
    "- **A** : C'est le coefficient principal de l'équation quadratique.\n",
    "- **B** : C'est le coefficient linéaire ajusté par les paramètres de la courbe.\n",
    "\n",
    "### Obtention de A et B en fonction de a, b, c, d, e et f\n",
    "\n",
    "Les grands **A** et **B** sont obtenus en fonction des coefficients **( a, b, c, d, e )** et **( f )** de la formule générale.  \n",
    "    \n",
    "Voici comment :\n",
    "\n",
    "1. **A** :\n",
    "    A=a/c    \n",
    "\n",
    "2. **B** :\n",
    "    B=b/c    \n",
    "\n",
    "3. **Le c, le d, le e et le f**:    \n",
    "                    c = 1    \n",
    "                    d = 2    \n",
    "                    e = 2    \n",
    "                    f = 0    \n",
    "    \n",
    "## L'équation de la conique devient alors plus simple à manipuler :     \n",
    "**<p style=\"color: red;\">$Ax^2 + 2Bxy + y^2 + 2x + 2y = 0$</p>**\n",
    "(équation du second degré)\n",
    "\n",
    "### Résolution de cette équation :\n",
    "\n",
    "I = A    \n",
    "J = 2By + 2    \n",
    "K = y^2 + 2y    \n",
    "\n",
    "**discriminant** = J^2 - 4IK    \n",
    "\n",
    "Le **discriminant** permet de résoudre une équation du second degré et de trouver **x**:\n",
    "- x1 = (J - discriminent^0.5) / 2I\n",
    "- x2 = (J + discriminent^0.5) / 2I\n",
    "\n",
    "**x1** et **x2** sont les solution de l'équation.\n",
    "\n",
    "### Remarque :\n",
    "\n",
    "- Si ( discriminant > 0 ), la conique est une **hyperbole**.\n",
    "- Si ( discriminant = 0 ), la conique est une **parabole**.\n",
    "- Si ( discriminant < 0 ), la conique est une **ellipse**.\n",
    "\n",
    "## Conclusion :\n",
    "\n",
    "En ajustant **B en fonction de A**, nous pouvons observer **x1 et x2** changer de valeurs et donc voir le \n",
    " **discriminant** changer. Ainsi nous pouvons regarder comment la forme de la conique se déplace, celà nous permet de mieux **comprendre et visualiser** le comportement des coniques en fonction de différents paramètres. \n",
    "\n",
    "\n"
   ]
  },
  {
   "cell_type": "code",
   "execution_count": 2,
   "id": "89adce04-f774-4cb9-a686-63e28a4e4398",
   "metadata": {},
   "outputs": [],
   "source": [
    "import numpy as np\n",
    "import matplotlib.pyplot as plt\n",
    "from ipywidgets import interact, FloatSlider #outil de visualisation graphique"
   ]
  },
  {
   "cell_type": "code",
   "execution_count": 5,
   "id": "2b923191-b773-4b40-81ee-608baf89872e",
   "metadata": {},
   "outputs": [],
   "source": [
    "def compute_discriminant(X, Y, x):\n",
    "    A = 1\n",
    "    B = 2 * Y * x + 2\n",
    "    C = X * x ** 2 + 2 * x\n",
    "    discriminant = B ** 2 - 4 * A * C\n",
    "    sqrt_discriminant = np.sqrt(np.abs(discriminant))\n",
    "    real_discriminant_mask = discriminant >= 0\n",
    "    y1 = np.full_like(x, np.nan)\n",
    "    y2 = np.full_like(x, np.nan)\n",
    "    y1[real_discriminant_mask] = (-B[real_discriminant_mask] + sqrt_discriminant[real_discriminant_mask]) / (2 * A)\n",
    "    y2[real_discriminant_mask] = (-B[real_discriminant_mask] - sqrt_discriminant[real_discriminant_mask]) / (2 * A)\n",
    "    return y1, y2"
   ]
  },
  {
   "cell_type": "markdown",
   "id": "7fdf11d3-a090-4f4e-bc5b-308669f88660",
   "metadata": {},
   "source": [
    "## 1. Fonction Affine et Résultat en Conique\n",
    "\n",
    "### Fonction Affine :   \n",
    "### <p style=\"color: red;\">B = mA + c </p>"
   ]
  },
  {
   "cell_type": "code",
   "execution_count": 7,
   "id": "d86a5cd7-4a02-40b3-9379-2762f5c10efd",
   "metadata": {},
   "outputs": [
    {
     "data": {
      "application/vnd.jupyter.widget-view+json": {
       "model_id": "537ef759f18f4a37bff0244836f49761",
       "version_major": 2,
       "version_minor": 0
      },
      "text/plain": [
       "interactive(children=(FloatSlider(value=1.0, description='m', max=10.0, min=-10.0), FloatSlider(value=0.0, des…"
      ]
     },
     "metadata": {},
     "output_type": "display_data"
    },
    {
     "data": {
      "text/plain": [
       "<function __main__.plot_affine_and_conic(m, c, X)>"
      ]
     },
     "execution_count": 7,
     "metadata": {},
     "output_type": "execute_result"
    }
   ],
   "source": [
    "def plot_affine_and_conic(m, c, X):\n",
    "    x = np.linspace(-10, 10, 1000)\n",
    "    y = m * x + c\n",
    "    Y = m * X + c\n",
    "    \n",
    "    y1, y2 = compute_discriminant(X, Y, x)\n",
    "\n",
    "    fig, (ax1, ax2) = plt.subplots(1, 2, figsize=(16, 6))\n",
    "    \n",
    "    # Graphique de gauche: fonction affine\n",
    "    ax1.plot(x, y, label=f'y = {m}x + {c}', color='blue')\n",
    "    ax1.scatter(X, Y, c='red')\n",
    "    ax1.set_title('Fonction Affine (espace des coniques)')\n",
    "    ax1.set_xlim([-10, 10])\n",
    "    ax1.set_ylim([-10, 10])\n",
    "    ax1.grid(True)\n",
    "    \n",
    "    # Graphique de droite: résultat en conique\n",
    "    ax2.plot(x, y1, label='y1', color='blue')\n",
    "    ax2.plot(x, y2, label='y2', color='blue')\n",
    "    ax2.set_title('Représentation')\n",
    "    ax2.set_xlim([-10, 10])\n",
    "    ax2.set_ylim([-10, 10])\n",
    "    ax2.grid(True)\n",
    "    \n",
    "    plt.show()\n",
    "\n",
    "interact(plot_affine_and_conic, \n",
    "         m=FloatSlider(min=-10, max=10, step=0.1, value=1), \n",
    "         c=FloatSlider(min=-10, max=10, step=0.1, value=0),\n",
    "         X=FloatSlider(min=-10, max=10, step=0.1, value=0,description='A'))\n"
   ]
  },
  {
   "cell_type": "markdown",
   "id": "7ef51124-15b4-4033-8482-09e89becfdfa",
   "metadata": {},
   "source": [
    "## 2. Fonction Quadratique et Résultat en Conique\n",
    "\n",
    "### Fonction Quadratique    \n",
    "### <p style=\"color: red;\">$B = aA^2 + bA + c$</p>\n",
    "\n"
   ]
  },
  {
   "cell_type": "code",
   "execution_count": 5,
   "id": "6390b9fd-3c19-4993-9caa-2d14726dc022",
   "metadata": {},
   "outputs": [
    {
     "data": {
      "application/vnd.jupyter.widget-view+json": {
       "model_id": "9617f62b609c4ab5be6d808b3f563c87",
       "version_major": 2,
       "version_minor": 0
      },
      "text/plain": [
       "interactive(children=(FloatSlider(value=1.0, description='a', max=10.0, min=-10.0), FloatSlider(value=0.0, des…"
      ]
     },
     "metadata": {},
     "output_type": "display_data"
    },
    {
     "data": {
      "text/plain": [
       "<function __main__.plot_quadratic_and_conic(a, b, c, X)>"
      ]
     },
     "execution_count": 5,
     "metadata": {},
     "output_type": "execute_result"
    }
   ],
   "source": [
    "#Code pour Visualisation\n",
    "\n",
    "def plot_quadratic_and_conic(a, b, c, X):\n",
    "    x = np.linspace(-10, 10, 1000)\n",
    "    y = a * x**2 + b * x + c\n",
    "    Y = a * X**2 + b * X + c\n",
    "    \n",
    "    y1, y2 = compute_discriminant(X, Y, x)\n",
    "\n",
    "    fig, (ax1, ax2) = plt.subplots(1, 2, figsize=(16, 6))\n",
    "    \n",
    "    # Graphique de gauche: fonction quadratique\n",
    "    ax1.plot(x, y, label=f'y = {a}x^2 + {b}x + {c}', color='blue')\n",
    "    ax1.scatter(X, Y, c='red')\n",
    "    ax1.set_title('Fonction Quadratique (espace des coniques)')\n",
    "    ax1.set_xlim([-10, 10])\n",
    "    ax1.set_ylim([-10, 10])\n",
    "    ax1.grid(True)\n",
    "    \n",
    "    # Graphique de droite: résultat en conique\n",
    "    ax2.plot(x, y1, label='y1', color='blue')\n",
    "    ax2.plot(x, y2, label='y2', color='blue')\n",
    "    ax2.set_title('Représentation')\n",
    "    ax2.set_xlim([-10, 10])\n",
    "    ax2.set_ylim([-10, 10])\n",
    "    ax2.grid(True)\n",
    "    \n",
    "    plt.show()\n",
    "\n",
    "interact(plot_quadratic_and_conic, \n",
    "         a=FloatSlider(min=-10, max=10, step=0.1, value=1), \n",
    "         b=FloatSlider(min=-10, max=10, step=0.1, value=0),\n",
    "         c=FloatSlider(min=-10, max=10, step=0.1, value=0),\n",
    "         X=FloatSlider(min=-10, max=10, step=0.1, value=0,description='A'))\n"
   ]
  },
  {
   "cell_type": "markdown",
   "id": "4e623062-123d-4876-ba17-f4198134ca00",
   "metadata": {},
   "source": [
    "## 3. Courbe 100% Horizontale et Résultat en Conique\n",
    "\n",
    "### Courbe Horizontale\n",
    "\n",
    "### <p style=\"color: red;\">B = c </p>\n"
   ]
  },
  {
   "cell_type": "code",
   "execution_count": 6,
   "id": "4bf4f710-b3bb-467c-87d1-40b9fabdaa82",
   "metadata": {},
   "outputs": [
    {
     "data": {
      "application/vnd.jupyter.widget-view+json": {
       "model_id": "2b845766adef43a2b87dbe57197ffa1f",
       "version_major": 2,
       "version_minor": 0
      },
      "text/plain": [
       "interactive(children=(FloatSlider(value=0.0, description='c', max=10.0, min=-10.0), FloatSlider(value=0.0, des…"
      ]
     },
     "metadata": {},
     "output_type": "display_data"
    },
    {
     "data": {
      "text/plain": [
       "<function __main__.plot_horizontal_and_conic(c, X)>"
      ]
     },
     "execution_count": 6,
     "metadata": {},
     "output_type": "execute_result"
    }
   ],
   "source": [
    "#Code pour Visualisation\n",
    "\n",
    "def plot_horizontal_and_conic(c, X):\n",
    "    x = np.linspace(-10, 10, 1000)\n",
    "    y = np.full_like(x, c)\n",
    "    Y = c\n",
    "    \n",
    "    y1, y2 = compute_discriminant(X, Y, x)\n",
    "\n",
    "    fig, (ax1, ax2) = plt.subplots(1, 2, figsize=(16, 6))\n",
    "    \n",
    "    # Graphique de gauche: courbe horizontale\n",
    "    ax1.plot(x, y, label=f'y = {c}', color='blue')\n",
    "    ax1.scatter(X, Y, c='red')\n",
    "    ax1.set_title('Courbe Horizontale')\n",
    "    ax1.set_xlim([-10, 10])\n",
    "    ax1.set_ylim([-10, 10])\n",
    "    ax1.grid(True)\n",
    "    \n",
    "    # Graphique de droite: résultat en conique\n",
    "    ax2.plot(x, y1, label='y1', color='blue')\n",
    "    ax2.plot(x, y2, label='y2', color='blue')\n",
    "    ax2.set_title('Solutions du Discriminant')\n",
    "    ax2.set_xlim([-10, 10])\n",
    "    ax2.set_ylim([-10, 10])\n",
    "    ax2.grid(True)\n",
    "    \n",
    "    plt.show()\n",
    "\n",
    "interact(plot_horizontal_and_conic, \n",
    "         c=FloatSlider(min=-10, max=10, step=0.1, value=0),\n",
    "         X=FloatSlider(min=-10, max=10, step=0.1, value=0,description='A'))\n"
   ]
  },
  {
   "cell_type": "markdown",
   "id": "137bf6e6-8aad-4b2e-812a-5b7a708e9f07",
   "metadata": {},
   "source": [
    "## 4. Courbe 100% Verticale et Résultat en Conique\n",
    "\n",
    "### Courbe Verticale\n",
    "\n",
    "Pour une courbe verticale, nous utilisons une valeur infinie pour simuler la verticalité.    \n",
    "    \n",
    "### <p style=\"color: red;\">A = c </p>"
   ]
  },
  {
   "cell_type": "code",
   "execution_count": 7,
   "id": "db13ce25-837e-450b-ac6a-b1e2ff1ffc93",
   "metadata": {},
   "outputs": [
    {
     "data": {
      "application/vnd.jupyter.widget-view+json": {
       "model_id": "2960b5e05a5049b6a9d70512125298de",
       "version_major": 2,
       "version_minor": 0
      },
      "text/plain": [
       "interactive(children=(FloatSlider(value=0.0, description='B', max=10.0, min=-10.0), FloatSlider(value=0.0, des…"
      ]
     },
     "metadata": {},
     "output_type": "display_data"
    },
    {
     "data": {
      "text/plain": [
       "<function __main__.plot_vertical_and_conic(Y, X)>"
      ]
     },
     "execution_count": 7,
     "metadata": {},
     "output_type": "execute_result"
    }
   ],
   "source": [
    "#Code pour Visualisation\n",
    "\n",
    "def plot_vertical_and_conic(Y, X):\n",
    "    x = np.linspace(-10, 10, 1000)\n",
    "    y = np.full_like(x, Y)\n",
    "    \n",
    "    y1, y2 = compute_discriminant(X, Y, x)\n",
    "\n",
    "    fig, (ax1, ax2) = plt.subplots(1, 2, figsize=(16, 6))\n",
    "    \n",
    "    # Graphique de gauche: courbe verticale\n",
    "    ax1.plot(np.full_like(x, X), x, label=f'x = {X}', color='blue')\n",
    "    ax1.scatter(X, Y, c='red')\n",
    "    ax1.set_title('Courbe Verticale')\n",
    "    ax1.set_xlim([-10, 10])\n",
    "    ax1.set_ylim([-10, 10])\n",
    "    ax1.grid(True)\n",
    "    \n",
    "    # Graphique de droite: résultat en conique\n",
    "    ax2.plot(x, y1, label='y1', color='blue')\n",
    "    ax2.plot(x, y2, label='y2', color='blue')\n",
    "    ax2.set_title('Solutions du Discriminant')\n",
    "    ax2.set_xlim([-10, 10])\n",
    "    ax2.set_ylim([-10, 10])\n",
    "    ax2.grid(True)\n",
    "    \n",
    "    plt.show()\n",
    "\n",
    "interact(plot_vertical_and_conic, \n",
    "         Y=FloatSlider(min=-10, max=10, step=0.1, value=0,description='B'),\n",
    "         X=FloatSlider(min=-10, max=10, step=0.1, value=0,description='A'))\n"
   ]
  },
  {
   "cell_type": "markdown",
   "id": "7be33ce2-8238-4329-b046-44171ab7b504",
   "metadata": {},
   "source": [
    "# 5. Superposition des courbes"
   ]
  },
  {
   "cell_type": "code",
   "execution_count": 8,
   "id": "d68e80ef-780e-47a7-8704-c1f27841eb1f",
   "metadata": {},
   "outputs": [
    {
     "data": {
      "application/vnd.jupyter.widget-view+json": {
       "model_id": "eb6e9a7cc5f5466bb6551fefef8bb5fd",
       "version_major": 2,
       "version_minor": 0
      },
      "text/plain": [
       "interactive(children=(Dropdown(description='Function', options=('Linear', 'Quadratic', 'Cubic', 'Quartic'), va…"
      ]
     },
     "metadata": {},
     "output_type": "display_data"
    },
    {
     "data": {
      "text/plain": [
       "<function __main__.update_plot(func_name, X, show_additional1, show_additional2, show_additional3)>"
      ]
     },
     "execution_count": 8,
     "metadata": {},
     "output_type": "execute_result"
    }
   ],
   "source": [
    "import numpy as np\n",
    "import matplotlib.pyplot as plt\n",
    "from ipywidgets import interact, FloatSlider, Dropdown, Checkbox\n",
    "\n",
    "def compute_discriminant(X, Y, x):\n",
    "    A = 1\n",
    "    B = 2 * Y * x + 2\n",
    "    C = X * x ** 2 + 2 * x\n",
    "    discriminant = B ** 2 - 4 * A * C\n",
    "    sqrt_discriminant = np.sqrt(np.abs(discriminant))\n",
    "    real_discriminant_mask = discriminant >= 0\n",
    "    y1 = np.full_like(x, np.nan)\n",
    "    y2 = np.full_like(x, np.nan)\n",
    "    y1[real_discriminant_mask] = (-B[real_discriminant_mask] + sqrt_discriminant[real_discriminant_mask]) / (2 * A)\n",
    "    y2[real_discriminant_mask] = (-B[real_discriminant_mask] - sqrt_discriminant[real_discriminant_mask]) / (2 * A)\n",
    "    return y1, y2\n",
    "\n",
    "def find_x_for_y(func, y, guess):\n",
    "    from scipy.optimize import fsolve\n",
    "    return fsolve(lambda x: func(x) - y, guess)\n",
    "\n",
    "def vertical_line(x):\n",
    "    return np.full_like(x, np.nan)\n",
    "\n",
    "def plot_functions(func, X, show_additional1, show_additional2, show_additional3):\n",
    "    a = np.linspace(-5, 5, 1000)\n",
    "    x = np.linspace(-10, 10, 10000)\n",
    "    b = func(a)\n",
    "    Y = func(X)\n",
    "    \n",
    "    y1, y2 = compute_discriminant(X, Y, x)\n",
    "    \n",
    "    fig, (ax1, ax2) = plt.subplots(1, 2, figsize=(16, 6))\n",
    "\n",
    "    # Premier graphique: fonction choisie\n",
    "    ax1.plot(a, b, label=f\"{func.__name__}(a)\", color='blue')\n",
    "    y_point = func(X)\n",
    "    ax1.scatter(X, y_point, c=\"r\", zorder=5)  # Point mobile sur la courbe principale\n",
    "\n",
    "    # Ajout de courbes supplémentaires avec des points relatifs à leur position\n",
    "    if show_additional1:\n",
    "        curve1 = lambda a: func(a + 1)\n",
    "        ax1.plot(a, curve1(a), label=f\"{func.__name__}(a+1)\", color='green')\n",
    "        x_point1 = find_x_for_y(curve1, y_point, X + 1)\n",
    "        y_point1 = curve1(x_point1)\n",
    "        ax1.scatter(x_point1, y_point1, c=\"g\", zorder=5)  # Point mobile sur la courbe supplémentaire 1\n",
    "    if show_additional2:\n",
    "        curve2 = lambda a: func(a + 2)\n",
    "        ax1.plot(a, curve2(a), label=f\"{func.__name__}(a+2)\", color='orange')\n",
    "        x_point2 = find_x_for_y(curve2, y_point, X + 2)\n",
    "        y_point2 = curve2(x_point2)\n",
    "        ax1.scatter(x_point2, y_point2, c=\"orange\", zorder=5)  # Point mobile sur la courbe supplémentaire 2\n",
    "    if show_additional3:\n",
    "        curve3 = lambda a: func(a + 3)\n",
    "        ax1.plot(a, curve3(a), label=f\"{func.__name__}(a+3)\", color='purple')\n",
    "        x_point3 = find_x_for_y(curve3, y_point, X + 3)\n",
    "        y_point3 = curve3(x_point3)\n",
    "        ax1.scatter(x_point3, y_point3, c=\"purple\", zorder=5)  # Point mobile sur la courbe supplémentaire 3\n",
    "\n",
    "    # Deuxième graphique: discriminant\n",
    "    ax2.plot(x, y1, label=\"y1\", color='blue')\n",
    "    ax2.plot(x, y2, label=\"y2\", color='blue')\n",
    "    ax2.set_title(\"Solutions du discriminant\")\n",
    "    if show_additional1:\n",
    "        y1_additional, y2_additional = compute_discriminant(X + 1, func(X + 1), x)\n",
    "        ax2.plot(x, y1_additional, label=\"y1_additional\", color='green')\n",
    "        ax2.plot(x, y2_additional, label=\"y2_additional\", color='green')\n",
    "    if show_additional2:\n",
    "        y1_additional, y2_additional = compute_discriminant(X + 2, func(X + 2), x)\n",
    "        ax2.plot(x, y1_additional, label=\"y1_additional\", color='orange')\n",
    "        ax2.plot(x, y2_additional, label=\"y2_additional\", color='orange')\n",
    "    if show_additional3:\n",
    "        y1_additional, y2_additional = compute_discriminant(X + 3, func(X + 3), x)\n",
    "        ax2.plot(x, y1_additional, label=\"y1_additional\", color='purple')\n",
    "        ax2.plot(x, y2_additional, label=\"y2_additional\", color='purple')\n",
    "\n",
    "    plt.show()\n",
    "\n",
    "# Liste des fonctions disponibles\n",
    "functions = {\n",
    "    \"Linear\": lambda a: -a,\n",
    "    \"Quadratic\": lambda a: -a**2 - 3*a + 1,\n",
    "    \"Cubic\": lambda a: -a**3 - 3*a**2 - 1.8*a + 2,\n",
    "    \"Quartic\": lambda a: -0.55*a**4 + 2.5*a**3 - 4.2*a**2 + a - 2.4,\n",
    "}\n",
    "\n",
    "# Widgets pour sélectionner la fonction et les coordonnées du point\n",
    "function_dropdown = Dropdown(options=list(functions.keys()), description=\"Function\")\n",
    "X_slider = FloatSlider(min=-5, max=5, step=0.1, value=0, description='A')\n",
    "show_additional1_checkbox = Checkbox(value=False, description='Show Additional Curve 1')\n",
    "show_additional2_checkbox = Checkbox(value=False, description='Show Additional Curve 2')\n",
    "show_additional3_checkbox = Checkbox(value=False, description='Show Additional Curve 3')\n",
    "\n",
    "def update_plot(func_name, X, show_additional1, show_additional2, show_additional3):\n",
    "    func = functions[func_name]\n",
    "    plot_functions(func, X, show_additional1, show_additional2, show_additional3)\n",
    "\n",
    "# Utilisation d'interact pour lier les widgets et la fonction de mise à jour\n",
    "interact(update_plot, func_name=function_dropdown, X=X_slider, show_additional1=show_additional1_checkbox, show_additional2=show_additional2_checkbox, show_additional3=show_additional3_checkbox)\n"
   ]
  },
  {
   "cell_type": "code",
   "execution_count": null,
   "id": "f6fc3fac-74e5-4cf5-8d2d-c8760b16d028",
   "metadata": {},
   "outputs": [],
   "source": []
  }
 ],
 "metadata": {
  "kernelspec": {
   "display_name": "Python 3 (ipykernel)",
   "language": "python",
   "name": "python3"
  },
  "language_info": {
   "codemirror_mode": {
    "name": "ipython",
    "version": 3
   },
   "file_extension": ".py",
   "mimetype": "text/x-python",
   "name": "python",
   "nbconvert_exporter": "python",
   "pygments_lexer": "ipython3",
   "version": "3.11.9"
  }
 },
 "nbformat": 4,
 "nbformat_minor": 5
}
